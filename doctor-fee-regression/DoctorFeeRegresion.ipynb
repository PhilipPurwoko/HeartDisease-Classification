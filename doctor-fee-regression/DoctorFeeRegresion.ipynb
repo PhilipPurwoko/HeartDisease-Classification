{
 "cells": [
  {
   "cell_type": "markdown",
   "metadata": {},
   "source": [
    "# Persiapkan Data"
   ]
  },
  {
   "cell_type": "code",
   "execution_count": 1,
   "metadata": {},
   "outputs": [],
   "source": [
    "import numpy as np\n",
    "import pandas as pd\n",
    "import matplotlib.pyplot as plt\n",
    "%matplotlib inline"
   ]
  },
  {
   "cell_type": "code",
   "execution_count": 2,
   "metadata": {},
   "outputs": [],
   "source": [
    "dataframe = pd.read_excel('doctor-fee.xlsx')"
   ]
  },
  {
   "cell_type": "code",
   "execution_count": 3,
   "metadata": {},
   "outputs": [
    {
     "data": {
      "text/html": [
       "<div>\n",
       "<style scoped>\n",
       "    .dataframe tbody tr th:only-of-type {\n",
       "        vertical-align: middle;\n",
       "    }\n",
       "\n",
       "    .dataframe tbody tr th {\n",
       "        vertical-align: top;\n",
       "    }\n",
       "\n",
       "    .dataframe thead th {\n",
       "        text-align: right;\n",
       "    }\n",
       "</style>\n",
       "<table border=\"1\" class=\"dataframe\">\n",
       "  <thead>\n",
       "    <tr style=\"text-align: right;\">\n",
       "      <th></th>\n",
       "      <th>Qualification</th>\n",
       "      <th>Experience</th>\n",
       "      <th>Rating</th>\n",
       "      <th>Place</th>\n",
       "      <th>Profile</th>\n",
       "      <th>Miscellaneous_Info</th>\n",
       "      <th>Fees</th>\n",
       "    </tr>\n",
       "  </thead>\n",
       "  <tbody>\n",
       "    <tr>\n",
       "      <th>0</th>\n",
       "      <td>BHMS, MD - Homeopathy</td>\n",
       "      <td>24 years experience</td>\n",
       "      <td>100%</td>\n",
       "      <td>Kakkanad, Ernakulam</td>\n",
       "      <td>Homeopath</td>\n",
       "      <td>100% 16 Feedback Kakkanad, Ernakulam</td>\n",
       "      <td>100</td>\n",
       "    </tr>\n",
       "    <tr>\n",
       "      <th>1</th>\n",
       "      <td>BAMS, MD - Ayurveda Medicine</td>\n",
       "      <td>12 years experience</td>\n",
       "      <td>98%</td>\n",
       "      <td>Whitefield, Bangalore</td>\n",
       "      <td>Ayurveda</td>\n",
       "      <td>98% 76 Feedback Whitefield, Bangalore</td>\n",
       "      <td>350</td>\n",
       "    </tr>\n",
       "    <tr>\n",
       "      <th>2</th>\n",
       "      <td>MBBS, MS - Otorhinolaryngology</td>\n",
       "      <td>9 years experience</td>\n",
       "      <td>NaN</td>\n",
       "      <td>Mathikere - BEL, Bangalore</td>\n",
       "      <td>ENT Specialist</td>\n",
       "      <td>NaN</td>\n",
       "      <td>300</td>\n",
       "    </tr>\n",
       "    <tr>\n",
       "      <th>3</th>\n",
       "      <td>BSc - Zoology, BAMS</td>\n",
       "      <td>12 years experience</td>\n",
       "      <td>NaN</td>\n",
       "      <td>Bannerghatta Road, Bangalore</td>\n",
       "      <td>Ayurveda</td>\n",
       "      <td>Bannerghatta Road, Bangalore ₹250 Available on...</td>\n",
       "      <td>250</td>\n",
       "    </tr>\n",
       "    <tr>\n",
       "      <th>4</th>\n",
       "      <td>BAMS</td>\n",
       "      <td>20 years experience</td>\n",
       "      <td>100%</td>\n",
       "      <td>Keelkattalai, Chennai</td>\n",
       "      <td>Ayurveda</td>\n",
       "      <td>100% 4 Feedback Keelkattalai, Chennai</td>\n",
       "      <td>250</td>\n",
       "    </tr>\n",
       "  </tbody>\n",
       "</table>\n",
       "</div>"
      ],
      "text/plain": [
       "                    Qualification           Experience Rating  \\\n",
       "0           BHMS, MD - Homeopathy  24 years experience   100%   \n",
       "1    BAMS, MD - Ayurveda Medicine  12 years experience    98%   \n",
       "2  MBBS, MS - Otorhinolaryngology   9 years experience    NaN   \n",
       "3             BSc - Zoology, BAMS  12 years experience    NaN   \n",
       "4                            BAMS  20 years experience   100%   \n",
       "\n",
       "                          Place         Profile  \\\n",
       "0           Kakkanad, Ernakulam       Homeopath   \n",
       "1         Whitefield, Bangalore        Ayurveda   \n",
       "2    Mathikere - BEL, Bangalore  ENT Specialist   \n",
       "3  Bannerghatta Road, Bangalore        Ayurveda   \n",
       "4         Keelkattalai, Chennai        Ayurveda   \n",
       "\n",
       "                                  Miscellaneous_Info  Fees  \n",
       "0               100% 16 Feedback Kakkanad, Ernakulam   100  \n",
       "1              98% 76 Feedback Whitefield, Bangalore   350  \n",
       "2                                                NaN   300  \n",
       "3  Bannerghatta Road, Bangalore ₹250 Available on...   250  \n",
       "4              100% 4 Feedback Keelkattalai, Chennai   250  "
      ]
     },
     "execution_count": 3,
     "metadata": {},
     "output_type": "execute_result"
    }
   ],
   "source": [
    "dataframe.head()"
   ]
  },
  {
   "cell_type": "code",
   "execution_count": 4,
   "metadata": {},
   "outputs": [
    {
     "name": "stdout",
     "output_type": "stream",
     "text": [
      "<class 'pandas.core.frame.DataFrame'>\n",
      "RangeIndex: 5961 entries, 0 to 5960\n",
      "Data columns (total 7 columns):\n",
      " #   Column              Non-Null Count  Dtype \n",
      "---  ------              --------------  ----- \n",
      " 0   Qualification       5961 non-null   object\n",
      " 1   Experience          5961 non-null   object\n",
      " 2   Rating              2659 non-null   object\n",
      " 3   Place               5936 non-null   object\n",
      " 4   Profile             5961 non-null   object\n",
      " 5   Miscellaneous_Info  3341 non-null   object\n",
      " 6   Fees                5961 non-null   int64 \n",
      "dtypes: int64(1), object(6)\n",
      "memory usage: 326.1+ KB\n"
     ]
    }
   ],
   "source": [
    "dataframe.info()"
   ]
  },
  {
   "cell_type": "markdown",
   "metadata": {},
   "source": [
    "# Menghapus Kolom"
   ]
  },
  {
   "cell_type": "code",
   "execution_count": 5,
   "metadata": {},
   "outputs": [],
   "source": [
    "dataframe.drop('Miscellaneous_Info',axis=1,inplace=True)"
   ]
  },
  {
   "cell_type": "markdown",
   "metadata": {},
   "source": [
    "# Mengisi Data Kosong"
   ]
  },
  {
   "cell_type": "code",
   "execution_count": 21,
   "metadata": {},
   "outputs": [],
   "source": [
    "# Konversi data string menjadi int\n",
    "# Mengisikan data nan dengan rata rata\n",
    "def fill_rating(rate_column):\n",
    "    def loop_over(mean=None):\n",
    "        for data in rate_column:\n",
    "            try:\n",
    "                if mean:\n",
    "                    final_data.append(int(data[:-1]))\n",
    "                else:\n",
    "                    valid_data.append(int(data[:-1]))\n",
    "            except TypeError:\n",
    "                if mean:\n",
    "                    final_data.append(mean_rating)\n",
    "                else:\n",
    "                    pass\n",
    "    valid_data = []\n",
    "    loop_over()\n",
    "    mean_rating = np.mean(valid_data)\n",
    "    final_data = []\n",
    "    loop_over(True)\n",
    "    return final_data"
   ]
  },
  {
   "cell_type": "code",
   "execution_count": 22,
   "metadata": {},
   "outputs": [],
   "source": [
    "dataframe['Rating'] = fill_rating(dataframe['Rating'])"
   ]
  },
  {
   "cell_type": "code",
   "execution_count": 23,
   "metadata": {},
   "outputs": [
    {
     "data": {
      "text/html": [
       "<div>\n",
       "<style scoped>\n",
       "    .dataframe tbody tr th:only-of-type {\n",
       "        vertical-align: middle;\n",
       "    }\n",
       "\n",
       "    .dataframe tbody tr th {\n",
       "        vertical-align: top;\n",
       "    }\n",
       "\n",
       "    .dataframe thead th {\n",
       "        text-align: right;\n",
       "    }\n",
       "</style>\n",
       "<table border=\"1\" class=\"dataframe\">\n",
       "  <thead>\n",
       "    <tr style=\"text-align: right;\">\n",
       "      <th></th>\n",
       "      <th>Qualification</th>\n",
       "      <th>Experience</th>\n",
       "      <th>Rating</th>\n",
       "      <th>Place</th>\n",
       "      <th>Profile</th>\n",
       "      <th>Fees</th>\n",
       "    </tr>\n",
       "  </thead>\n",
       "  <tbody>\n",
       "    <tr>\n",
       "      <th>0</th>\n",
       "      <td>BHMS, MD - Homeopathy</td>\n",
       "      <td>24 years experience</td>\n",
       "      <td>100.000000</td>\n",
       "      <td>Kakkanad, Ernakulam</td>\n",
       "      <td>Homeopath</td>\n",
       "      <td>100</td>\n",
       "    </tr>\n",
       "    <tr>\n",
       "      <th>1</th>\n",
       "      <td>BAMS, MD - Ayurveda Medicine</td>\n",
       "      <td>12 years experience</td>\n",
       "      <td>98.000000</td>\n",
       "      <td>Whitefield, Bangalore</td>\n",
       "      <td>Ayurveda</td>\n",
       "      <td>350</td>\n",
       "    </tr>\n",
       "    <tr>\n",
       "      <th>2</th>\n",
       "      <td>MBBS, MS - Otorhinolaryngology</td>\n",
       "      <td>9 years experience</td>\n",
       "      <td>94.643475</td>\n",
       "      <td>Mathikere - BEL, Bangalore</td>\n",
       "      <td>ENT Specialist</td>\n",
       "      <td>300</td>\n",
       "    </tr>\n",
       "    <tr>\n",
       "      <th>3</th>\n",
       "      <td>BSc - Zoology, BAMS</td>\n",
       "      <td>12 years experience</td>\n",
       "      <td>94.643475</td>\n",
       "      <td>Bannerghatta Road, Bangalore</td>\n",
       "      <td>Ayurveda</td>\n",
       "      <td>250</td>\n",
       "    </tr>\n",
       "    <tr>\n",
       "      <th>4</th>\n",
       "      <td>BAMS</td>\n",
       "      <td>20 years experience</td>\n",
       "      <td>100.000000</td>\n",
       "      <td>Keelkattalai, Chennai</td>\n",
       "      <td>Ayurveda</td>\n",
       "      <td>250</td>\n",
       "    </tr>\n",
       "  </tbody>\n",
       "</table>\n",
       "</div>"
      ],
      "text/plain": [
       "                    Qualification           Experience      Rating  \\\n",
       "0           BHMS, MD - Homeopathy  24 years experience  100.000000   \n",
       "1    BAMS, MD - Ayurveda Medicine  12 years experience   98.000000   \n",
       "2  MBBS, MS - Otorhinolaryngology   9 years experience   94.643475   \n",
       "3             BSc - Zoology, BAMS  12 years experience   94.643475   \n",
       "4                            BAMS  20 years experience  100.000000   \n",
       "\n",
       "                          Place         Profile  Fees  \n",
       "0           Kakkanad, Ernakulam       Homeopath   100  \n",
       "1         Whitefield, Bangalore        Ayurveda   350  \n",
       "2    Mathikere - BEL, Bangalore  ENT Specialist   300  \n",
       "3  Bannerghatta Road, Bangalore        Ayurveda   250  \n",
       "4         Keelkattalai, Chennai        Ayurveda   250  "
      ]
     },
     "execution_count": 23,
     "metadata": {},
     "output_type": "execute_result"
    }
   ],
   "source": [
    "dataframe.head()"
   ]
  },
  {
   "cell_type": "code",
   "execution_count": 27,
   "metadata": {},
   "outputs": [],
   "source": [
    "def convert_experience():\n",
    "    experience = []\n",
    "    for exp in dataframe['Experience']:\n",
    "        exp = int(exp[:-17])\n",
    "        experience.append(exp)\n",
    "    return experience"
   ]
  },
  {
   "cell_type": "code",
   "execution_count": 28,
   "metadata": {},
   "outputs": [
    {
     "ename": "TypeError",
     "evalue": "'int' object is not subscriptable",
     "output_type": "error",
     "traceback": [
      "\u001b[1;31m---------------------------------------------------------------------------\u001b[0m",
      "\u001b[1;31mTypeError\u001b[0m                                 Traceback (most recent call last)",
      "\u001b[1;32m<ipython-input-28-372eef44096d>\u001b[0m in \u001b[0;36m<module>\u001b[1;34m\u001b[0m\n\u001b[1;32m----> 1\u001b[1;33m \u001b[0mdataframe\u001b[0m\u001b[1;33m[\u001b[0m\u001b[1;34m'Experience'\u001b[0m\u001b[1;33m]\u001b[0m \u001b[1;33m=\u001b[0m \u001b[0mconvert_experience\u001b[0m\u001b[1;33m(\u001b[0m\u001b[1;33m)\u001b[0m\u001b[1;33m\u001b[0m\u001b[1;33m\u001b[0m\u001b[0m\n\u001b[0m",
      "\u001b[1;32m<ipython-input-27-09fdbd6f7062>\u001b[0m in \u001b[0;36mconvert_experience\u001b[1;34m()\u001b[0m\n\u001b[0;32m      2\u001b[0m     \u001b[0mexperience\u001b[0m \u001b[1;33m=\u001b[0m \u001b[1;33m[\u001b[0m\u001b[1;33m]\u001b[0m\u001b[1;33m\u001b[0m\u001b[1;33m\u001b[0m\u001b[0m\n\u001b[0;32m      3\u001b[0m     \u001b[1;32mfor\u001b[0m \u001b[0mexp\u001b[0m \u001b[1;32min\u001b[0m \u001b[0mdataframe\u001b[0m\u001b[1;33m[\u001b[0m\u001b[1;34m'Experience'\u001b[0m\u001b[1;33m]\u001b[0m\u001b[1;33m:\u001b[0m\u001b[1;33m\u001b[0m\u001b[1;33m\u001b[0m\u001b[0m\n\u001b[1;32m----> 4\u001b[1;33m         \u001b[0mexp\u001b[0m \u001b[1;33m=\u001b[0m \u001b[0mint\u001b[0m\u001b[1;33m(\u001b[0m\u001b[0mexp\u001b[0m\u001b[1;33m[\u001b[0m\u001b[1;33m:\u001b[0m\u001b[1;33m-\u001b[0m\u001b[1;36m17\u001b[0m\u001b[1;33m]\u001b[0m\u001b[1;33m)\u001b[0m\u001b[1;33m\u001b[0m\u001b[1;33m\u001b[0m\u001b[0m\n\u001b[0m\u001b[0;32m      5\u001b[0m         \u001b[0mexperience\u001b[0m\u001b[1;33m.\u001b[0m\u001b[0mappend\u001b[0m\u001b[1;33m(\u001b[0m\u001b[0mexp\u001b[0m\u001b[1;33m)\u001b[0m\u001b[1;33m\u001b[0m\u001b[1;33m\u001b[0m\u001b[0m\n\u001b[0;32m      6\u001b[0m     \u001b[1;32mreturn\u001b[0m \u001b[0mexperience\u001b[0m\u001b[1;33m\u001b[0m\u001b[1;33m\u001b[0m\u001b[0m\n",
      "\u001b[1;31mTypeError\u001b[0m: 'int' object is not subscriptable"
     ]
    }
   ],
   "source": [
    "dataframe['Experience'] = convert_experience()"
   ]
  },
  {
   "cell_type": "code",
   "execution_count": 29,
   "metadata": {},
   "outputs": [
    {
     "data": {
      "text/html": [
       "<div>\n",
       "<style scoped>\n",
       "    .dataframe tbody tr th:only-of-type {\n",
       "        vertical-align: middle;\n",
       "    }\n",
       "\n",
       "    .dataframe tbody tr th {\n",
       "        vertical-align: top;\n",
       "    }\n",
       "\n",
       "    .dataframe thead th {\n",
       "        text-align: right;\n",
       "    }\n",
       "</style>\n",
       "<table border=\"1\" class=\"dataframe\">\n",
       "  <thead>\n",
       "    <tr style=\"text-align: right;\">\n",
       "      <th></th>\n",
       "      <th>Qualification</th>\n",
       "      <th>Experience</th>\n",
       "      <th>Rating</th>\n",
       "      <th>Place</th>\n",
       "      <th>Profile</th>\n",
       "      <th>Fees</th>\n",
       "    </tr>\n",
       "  </thead>\n",
       "  <tbody>\n",
       "    <tr>\n",
       "      <th>0</th>\n",
       "      <td>BHMS, MD - Homeopathy</td>\n",
       "      <td>24</td>\n",
       "      <td>100.000000</td>\n",
       "      <td>Kakkanad, Ernakulam</td>\n",
       "      <td>Homeopath</td>\n",
       "      <td>100</td>\n",
       "    </tr>\n",
       "    <tr>\n",
       "      <th>1</th>\n",
       "      <td>BAMS, MD - Ayurveda Medicine</td>\n",
       "      <td>12</td>\n",
       "      <td>98.000000</td>\n",
       "      <td>Whitefield, Bangalore</td>\n",
       "      <td>Ayurveda</td>\n",
       "      <td>350</td>\n",
       "    </tr>\n",
       "    <tr>\n",
       "      <th>2</th>\n",
       "      <td>MBBS, MS - Otorhinolaryngology</td>\n",
       "      <td>9</td>\n",
       "      <td>94.643475</td>\n",
       "      <td>Mathikere - BEL, Bangalore</td>\n",
       "      <td>ENT Specialist</td>\n",
       "      <td>300</td>\n",
       "    </tr>\n",
       "    <tr>\n",
       "      <th>3</th>\n",
       "      <td>BSc - Zoology, BAMS</td>\n",
       "      <td>12</td>\n",
       "      <td>94.643475</td>\n",
       "      <td>Bannerghatta Road, Bangalore</td>\n",
       "      <td>Ayurveda</td>\n",
       "      <td>250</td>\n",
       "    </tr>\n",
       "    <tr>\n",
       "      <th>4</th>\n",
       "      <td>BAMS</td>\n",
       "      <td>20</td>\n",
       "      <td>100.000000</td>\n",
       "      <td>Keelkattalai, Chennai</td>\n",
       "      <td>Ayurveda</td>\n",
       "      <td>250</td>\n",
       "    </tr>\n",
       "  </tbody>\n",
       "</table>\n",
       "</div>"
      ],
      "text/plain": [
       "                    Qualification  Experience      Rating  \\\n",
       "0           BHMS, MD - Homeopathy          24  100.000000   \n",
       "1    BAMS, MD - Ayurveda Medicine          12   98.000000   \n",
       "2  MBBS, MS - Otorhinolaryngology           9   94.643475   \n",
       "3             BSc - Zoology, BAMS          12   94.643475   \n",
       "4                            BAMS          20  100.000000   \n",
       "\n",
       "                          Place         Profile  Fees  \n",
       "0           Kakkanad, Ernakulam       Homeopath   100  \n",
       "1         Whitefield, Bangalore        Ayurveda   350  \n",
       "2    Mathikere - BEL, Bangalore  ENT Specialist   300  \n",
       "3  Bannerghatta Road, Bangalore        Ayurveda   250  \n",
       "4         Keelkattalai, Chennai        Ayurveda   250  "
      ]
     },
     "execution_count": 29,
     "metadata": {},
     "output_type": "execute_result"
    }
   ],
   "source": [
    "dataframe.head()"
   ]
  },
  {
   "cell_type": "markdown",
   "metadata": {},
   "source": [
    "# Menghapus Data Kosong"
   ]
  },
  {
   "cell_type": "code",
   "execution_count": 30,
   "metadata": {},
   "outputs": [],
   "source": [
    "dataframe.dropna(subset = ['Place'], inplace=True)"
   ]
  },
  {
   "cell_type": "code",
   "execution_count": 31,
   "metadata": {},
   "outputs": [
    {
     "name": "stdout",
     "output_type": "stream",
     "text": [
      "<class 'pandas.core.frame.DataFrame'>\n",
      "Int64Index: 5936 entries, 0 to 5960\n",
      "Data columns (total 6 columns):\n",
      " #   Column         Non-Null Count  Dtype  \n",
      "---  ------         --------------  -----  \n",
      " 0   Qualification  5936 non-null   object \n",
      " 1   Experience     5936 non-null   int64  \n",
      " 2   Rating         5936 non-null   float64\n",
      " 3   Place          5936 non-null   object \n",
      " 4   Profile        5936 non-null   object \n",
      " 5   Fees           5936 non-null   int64  \n",
      "dtypes: float64(1), int64(2), object(3)\n",
      "memory usage: 324.6+ KB\n"
     ]
    }
   ],
   "source": [
    "dataframe.info()"
   ]
  },
  {
   "cell_type": "code",
   "execution_count": 32,
   "metadata": {},
   "outputs": [
    {
     "data": {
      "text/html": [
       "<div>\n",
       "<style scoped>\n",
       "    .dataframe tbody tr th:only-of-type {\n",
       "        vertical-align: middle;\n",
       "    }\n",
       "\n",
       "    .dataframe tbody tr th {\n",
       "        vertical-align: top;\n",
       "    }\n",
       "\n",
       "    .dataframe thead th {\n",
       "        text-align: right;\n",
       "    }\n",
       "</style>\n",
       "<table border=\"1\" class=\"dataframe\">\n",
       "  <thead>\n",
       "    <tr style=\"text-align: right;\">\n",
       "      <th></th>\n",
       "      <th>Qualification</th>\n",
       "      <th>Experience</th>\n",
       "      <th>Rating</th>\n",
       "      <th>Place</th>\n",
       "      <th>Profile</th>\n",
       "      <th>Fees</th>\n",
       "    </tr>\n",
       "  </thead>\n",
       "  <tbody>\n",
       "    <tr>\n",
       "      <th>0</th>\n",
       "      <td>BHMS, MD - Homeopathy</td>\n",
       "      <td>24</td>\n",
       "      <td>100.000000</td>\n",
       "      <td>Kakkanad, Ernakulam</td>\n",
       "      <td>Homeopath</td>\n",
       "      <td>100</td>\n",
       "    </tr>\n",
       "    <tr>\n",
       "      <th>1</th>\n",
       "      <td>BAMS, MD - Ayurveda Medicine</td>\n",
       "      <td>12</td>\n",
       "      <td>98.000000</td>\n",
       "      <td>Whitefield, Bangalore</td>\n",
       "      <td>Ayurveda</td>\n",
       "      <td>350</td>\n",
       "    </tr>\n",
       "    <tr>\n",
       "      <th>2</th>\n",
       "      <td>MBBS, MS - Otorhinolaryngology</td>\n",
       "      <td>9</td>\n",
       "      <td>94.643475</td>\n",
       "      <td>Mathikere - BEL, Bangalore</td>\n",
       "      <td>ENT Specialist</td>\n",
       "      <td>300</td>\n",
       "    </tr>\n",
       "    <tr>\n",
       "      <th>3</th>\n",
       "      <td>BSc - Zoology, BAMS</td>\n",
       "      <td>12</td>\n",
       "      <td>94.643475</td>\n",
       "      <td>Bannerghatta Road, Bangalore</td>\n",
       "      <td>Ayurveda</td>\n",
       "      <td>250</td>\n",
       "    </tr>\n",
       "    <tr>\n",
       "      <th>4</th>\n",
       "      <td>BAMS</td>\n",
       "      <td>20</td>\n",
       "      <td>100.000000</td>\n",
       "      <td>Keelkattalai, Chennai</td>\n",
       "      <td>Ayurveda</td>\n",
       "      <td>250</td>\n",
       "    </tr>\n",
       "  </tbody>\n",
       "</table>\n",
       "</div>"
      ],
      "text/plain": [
       "                    Qualification  Experience      Rating  \\\n",
       "0           BHMS, MD - Homeopathy          24  100.000000   \n",
       "1    BAMS, MD - Ayurveda Medicine          12   98.000000   \n",
       "2  MBBS, MS - Otorhinolaryngology           9   94.643475   \n",
       "3             BSc - Zoology, BAMS          12   94.643475   \n",
       "4                            BAMS          20  100.000000   \n",
       "\n",
       "                          Place         Profile  Fees  \n",
       "0           Kakkanad, Ernakulam       Homeopath   100  \n",
       "1         Whitefield, Bangalore        Ayurveda   350  \n",
       "2    Mathikere - BEL, Bangalore  ENT Specialist   300  \n",
       "3  Bannerghatta Road, Bangalore        Ayurveda   250  \n",
       "4         Keelkattalai, Chennai        Ayurveda   250  "
      ]
     },
     "execution_count": 32,
     "metadata": {},
     "output_type": "execute_result"
    }
   ],
   "source": [
    "dataframe.head()"
   ]
  },
  {
   "cell_type": "markdown",
   "metadata": {},
   "source": [
    "# Encoding Data"
   ]
  },
  {
   "cell_type": "code",
   "execution_count": 36,
   "metadata": {},
   "outputs": [],
   "source": [
    "from sklearn.preprocessing import LabelEncoder"
   ]
  },
  {
   "cell_type": "code",
   "execution_count": 37,
   "metadata": {},
   "outputs": [],
   "source": [
    "def encode_dataframe(columns):\n",
    "    encoder = LabelEncoder()\n",
    "    for col in columns:\n",
    "        dataframe[col] = encoder.fit_transform(dataframe[col])"
   ]
  },
  {
   "cell_type": "code",
   "execution_count": 38,
   "metadata": {},
   "outputs": [],
   "source": [
    "encode_dataframe(['Qualification','Place','Profile'])"
   ]
  },
  {
   "cell_type": "code",
   "execution_count": 39,
   "metadata": {},
   "outputs": [
    {
     "data": {
      "text/html": [
       "<div>\n",
       "<style scoped>\n",
       "    .dataframe tbody tr th:only-of-type {\n",
       "        vertical-align: middle;\n",
       "    }\n",
       "\n",
       "    .dataframe tbody tr th {\n",
       "        vertical-align: top;\n",
       "    }\n",
       "\n",
       "    .dataframe thead th {\n",
       "        text-align: right;\n",
       "    }\n",
       "</style>\n",
       "<table border=\"1\" class=\"dataframe\">\n",
       "  <thead>\n",
       "    <tr style=\"text-align: right;\">\n",
       "      <th></th>\n",
       "      <th>Qualification</th>\n",
       "      <th>Experience</th>\n",
       "      <th>Rating</th>\n",
       "      <th>Place</th>\n",
       "      <th>Profile</th>\n",
       "      <th>Fees</th>\n",
       "    </tr>\n",
       "  </thead>\n",
       "  <tbody>\n",
       "    <tr>\n",
       "      <th>0</th>\n",
       "      <td>401</td>\n",
       "      <td>24</td>\n",
       "      <td>100.000000</td>\n",
       "      <td>299</td>\n",
       "      <td>5</td>\n",
       "      <td>100</td>\n",
       "    </tr>\n",
       "    <tr>\n",
       "      <th>1</th>\n",
       "      <td>73</td>\n",
       "      <td>12</td>\n",
       "      <td>98.000000</td>\n",
       "      <td>866</td>\n",
       "      <td>0</td>\n",
       "      <td>350</td>\n",
       "    </tr>\n",
       "    <tr>\n",
       "      <th>2</th>\n",
       "      <td>1134</td>\n",
       "      <td>9</td>\n",
       "      <td>94.643475</td>\n",
       "      <td>457</td>\n",
       "      <td>3</td>\n",
       "      <td>300</td>\n",
       "    </tr>\n",
       "    <tr>\n",
       "      <th>3</th>\n",
       "      <td>464</td>\n",
       "      <td>12</td>\n",
       "      <td>94.643475</td>\n",
       "      <td>68</td>\n",
       "      <td>0</td>\n",
       "      <td>250</td>\n",
       "    </tr>\n",
       "    <tr>\n",
       "      <th>4</th>\n",
       "      <td>10</td>\n",
       "      <td>20</td>\n",
       "      <td>100.000000</td>\n",
       "      <td>337</td>\n",
       "      <td>0</td>\n",
       "      <td>250</td>\n",
       "    </tr>\n",
       "  </tbody>\n",
       "</table>\n",
       "</div>"
      ],
      "text/plain": [
       "   Qualification  Experience      Rating  Place  Profile  Fees\n",
       "0            401          24  100.000000    299        5   100\n",
       "1             73          12   98.000000    866        0   350\n",
       "2           1134           9   94.643475    457        3   300\n",
       "3            464          12   94.643475     68        0   250\n",
       "4             10          20  100.000000    337        0   250"
      ]
     },
     "execution_count": 39,
     "metadata": {},
     "output_type": "execute_result"
    }
   ],
   "source": [
    "dataframe.head()"
   ]
  },
  {
   "cell_type": "code",
   "execution_count": 40,
   "metadata": {},
   "outputs": [
    {
     "name": "stdout",
     "output_type": "stream",
     "text": [
      "<class 'pandas.core.frame.DataFrame'>\n",
      "Int64Index: 5936 entries, 0 to 5960\n",
      "Data columns (total 6 columns):\n",
      " #   Column         Non-Null Count  Dtype  \n",
      "---  ------         --------------  -----  \n",
      " 0   Qualification  5936 non-null   int32  \n",
      " 1   Experience     5936 non-null   int64  \n",
      " 2   Rating         5936 non-null   float64\n",
      " 3   Place          5936 non-null   int32  \n",
      " 4   Profile        5936 non-null   int32  \n",
      " 5   Fees           5936 non-null   int64  \n",
      "dtypes: float64(1), int32(3), int64(2)\n",
      "memory usage: 255.1 KB\n"
     ]
    }
   ],
   "source": [
    "dataframe.info()"
   ]
  },
  {
   "cell_type": "markdown",
   "metadata": {},
   "source": [
    "# Memisahkan Data"
   ]
  },
  {
   "cell_type": "code",
   "execution_count": 41,
   "metadata": {},
   "outputs": [],
   "source": [
    "from sklearn.model_selection import train_test_split"
   ]
  },
  {
   "cell_type": "code",
   "execution_count": 42,
   "metadata": {},
   "outputs": [],
   "source": [
    "data = dataframe.drop('Fees',axis=1)\n",
    "label = dataframe['Fees']"
   ]
  },
  {
   "cell_type": "code",
   "execution_count": 43,
   "metadata": {},
   "outputs": [],
   "source": [
    "x_train,x_test,y_train,y_test = train_test_split(data,label,test_size=0.2)"
   ]
  },
  {
   "cell_type": "markdown",
   "metadata": {},
   "source": [
    "# Machine Learning Model"
   ]
  },
  {
   "cell_type": "code",
   "execution_count": 46,
   "metadata": {},
   "outputs": [],
   "source": [
    "from sklearn.ensemble import RandomForestRegressor"
   ]
  },
  {
   "cell_type": "code",
   "execution_count": 47,
   "metadata": {},
   "outputs": [],
   "source": [
    "model = RandomForestRegressor(n_estimators=100)"
   ]
  },
  {
   "cell_type": "code",
   "execution_count": 48,
   "metadata": {},
   "outputs": [
    {
     "data": {
      "text/plain": [
       "RandomForestRegressor(bootstrap=True, criterion='mse', max_depth=None,\n",
       "                      max_features='auto', max_leaf_nodes=None,\n",
       "                      min_impurity_decrease=0.0, min_impurity_split=None,\n",
       "                      min_samples_leaf=1, min_samples_split=2,\n",
       "                      min_weight_fraction_leaf=0.0, n_estimators=100,\n",
       "                      n_jobs=None, oob_score=False, random_state=None,\n",
       "                      verbose=0, warm_start=False)"
      ]
     },
     "execution_count": 48,
     "metadata": {},
     "output_type": "execute_result"
    }
   ],
   "source": [
    "model.fit(x_train,y_train)"
   ]
  },
  {
   "cell_type": "code",
   "execution_count": 49,
   "metadata": {},
   "outputs": [],
   "source": [
    "prediction = model.predict(x_test)"
   ]
  },
  {
   "cell_type": "markdown",
   "metadata": {},
   "source": [
    "# Evaluation Metrics\n",
    "Evauation Metrics for Regresion are :\n",
    "* Mean Absolute Error (MAE)\n",
    "* Root Mean Squared Error (RMSE)\n",
    "* Mean Absolute Percentage Error (MAPE)\n",
    "* R-Squared Score"
   ]
  },
  {
   "cell_type": "code",
   "execution_count": 51,
   "metadata": {},
   "outputs": [],
   "source": [
    "from sklearn.metrics import mean_absolute_error,mean_squared_error,r2_score"
   ]
  },
  {
   "cell_type": "code",
   "execution_count": 52,
   "metadata": {},
   "outputs": [],
   "source": [
    "def evaluate(y_true,y_pred):\n",
    "    mae = mean_absolute_error(y_true,y_pred)\n",
    "    mse = mean_squared_error(y_true,y_pred)\n",
    "    r2 = r2_score(y_true,y_pred)\n",
    "    \n",
    "    print(f'MAE : {mae}\\nMSE : {mse}\\nR2 : {r2}')"
   ]
  },
  {
   "cell_type": "code",
   "execution_count": 53,
   "metadata": {},
   "outputs": [
    {
     "name": "stdout",
     "output_type": "stream",
     "text": [
      "MAE : 139.39505758644648\n",
      "MSE : 32529.648540690465\n",
      "R2 : 0.15492099922032143\n"
     ]
    }
   ],
   "source": [
    "evaluate(y_test,prediction)"
   ]
  },
  {
   "cell_type": "markdown",
   "metadata": {},
   "source": [
    "# Visualisasi Prediksi"
   ]
  },
  {
   "cell_type": "code",
   "execution_count": 58,
   "metadata": {},
   "outputs": [],
   "source": [
    "def visualize(y_true,y_pred,title=None):\n",
    "    y_true = y_true[:200]\n",
    "    y_pred = y_pred[:200]\n",
    "    plt.figure(figsize=(20,5))\n",
    "    plt.title(title)\n",
    "    plt.plot(range(len(y_true)),y_true,label='True Value',alpha=0.5)\n",
    "    plt.plot(range(len(y_pred)),y_pred,label='Prediction',alpha=0.5)\n",
    "    plt.legend()\n",
    "    plt.show()"
   ]
  },
  {
   "cell_type": "code",
   "execution_count": 59,
   "metadata": {},
   "outputs": [
    {
     "data": {
      "image/png": "[encoded data removed]",
      "text/plain": [
       "<Figure size 1440x360 with 1 Axes>"
      ]
     },
     "metadata": {
      "needs_background": "light"
     },
     "output_type": "display_data"
    }
   ],
   "source": [
    "visualize(y_test,prediction,'Prediction vs Real Data')"
   ]
  },
  {
   "cell_type": "markdown",
   "metadata": {},
   "source": [
    "# Korelasi Matrix"
   ]
  },
  {
   "cell_type": "code",
   "execution_count": 60,
   "metadata": {},
   "outputs": [
    {
     "data": {
      "text/html": [
       "<div>\n",
       "<style scoped>\n",
       "    .dataframe tbody tr th:only-of-type {\n",
       "        vertical-align: middle;\n",
       "    }\n",
       "\n",
       "    .dataframe tbody tr th {\n",
       "        vertical-align: top;\n",
       "    }\n",
       "\n",
       "    .dataframe thead th {\n",
       "        text-align: right;\n",
       "    }\n",
       "</style>\n",
       "<table border=\"1\" class=\"dataframe\">\n",
       "  <thead>\n",
       "    <tr style=\"text-align: right;\">\n",
       "      <th></th>\n",
       "      <th>Qualification</th>\n",
       "      <th>Experience</th>\n",
       "      <th>Rating</th>\n",
       "      <th>Place</th>\n",
       "      <th>Profile</th>\n",
       "      <th>Fees</th>\n",
       "    </tr>\n",
       "  </thead>\n",
       "  <tbody>\n",
       "    <tr>\n",
       "      <th>Qualification</th>\n",
       "      <td>1.000000</td>\n",
       "      <td>0.135008</td>\n",
       "      <td>-0.162300</td>\n",
       "      <td>0.006567</td>\n",
       "      <td>0.393179</td>\n",
       "      <td>0.263719</td>\n",
       "    </tr>\n",
       "    <tr>\n",
       "      <th>Experience</th>\n",
       "      <td>0.135008</td>\n",
       "      <td>1.000000</td>\n",
       "      <td>-0.178312</td>\n",
       "      <td>0.011557</td>\n",
       "      <td>0.201435</td>\n",
       "      <td>-0.004699</td>\n",
       "    </tr>\n",
       "    <tr>\n",
       "      <th>Rating</th>\n",
       "      <td>-0.162300</td>\n",
       "      <td>-0.178312</td>\n",
       "      <td>1.000000</td>\n",
       "      <td>0.015764</td>\n",
       "      <td>-0.111034</td>\n",
       "      <td>-0.090328</td>\n",
       "    </tr>\n",
       "    <tr>\n",
       "      <th>Place</th>\n",
       "      <td>0.006567</td>\n",
       "      <td>0.011557</td>\n",
       "      <td>0.015764</td>\n",
       "      <td>1.000000</td>\n",
       "      <td>0.018743</td>\n",
       "      <td>-0.055979</td>\n",
       "    </tr>\n",
       "    <tr>\n",
       "      <th>Profile</th>\n",
       "      <td>0.393179</td>\n",
       "      <td>0.201435</td>\n",
       "      <td>-0.111034</td>\n",
       "      <td>0.018743</td>\n",
       "      <td>1.000000</td>\n",
       "      <td>0.144392</td>\n",
       "    </tr>\n",
       "    <tr>\n",
       "      <th>Fees</th>\n",
       "      <td>0.263719</td>\n",
       "      <td>-0.004699</td>\n",
       "      <td>-0.090328</td>\n",
       "      <td>-0.055979</td>\n",
       "      <td>0.144392</td>\n",
       "      <td>1.000000</td>\n",
       "    </tr>\n",
       "  </tbody>\n",
       "</table>\n",
       "</div>"
      ],
      "text/plain": [
       "               Qualification  Experience    Rating     Place   Profile  \\\n",
       "Qualification       1.000000    0.135008 -0.162300  0.006567  0.393179   \n",
       "Experience          0.135008    1.000000 -0.178312  0.011557  0.201435   \n",
       "Rating             -0.162300   -0.178312  1.000000  0.015764 -0.111034   \n",
       "Place               0.006567    0.011557  0.015764  1.000000  0.018743   \n",
       "Profile             0.393179    0.201435 -0.111034  0.018743  1.000000   \n",
       "Fees                0.263719   -0.004699 -0.090328 -0.055979  0.144392   \n",
       "\n",
       "                   Fees  \n",
       "Qualification  0.263719  \n",
       "Experience    -0.004699  \n",
       "Rating        -0.090328  \n",
       "Place         -0.055979  \n",
       "Profile        0.144392  \n",
       "Fees           1.000000  "
      ]
     },
     "execution_count": 60,
     "metadata": {},
     "output_type": "execute_result"
    }
   ],
   "source": [
    "dataframe.corr()"
   ]
  },
  {
   "cell_type": "code",
   "execution_count": 61,
   "metadata": {},
   "outputs": [],
   "source": [
    "import seaborn as sns"
   ]
  },
  {
   "cell_type": "code",
   "execution_count": 68,
   "metadata": {},
   "outputs": [
    {
     "data": {
      "image/png": "[encoded data removed]",
      "text/plain": [
       "<Figure size 432x288 with 2 Axes>"
      ]
     },
     "metadata": {
      "needs_background": "light"
     },
     "output_type": "display_data"
    }
   ],
   "source": [
    "sns.heatmap(dataframe.corr(),annot=True,linewidths=3)\n",
    "plt.title('Matrix Correlation')\n",
    "plt.show()"
   ]
  },
  {
   "cell_type": "markdown",
   "metadata": {},
   "source": [
    "# Meningkatkan Model"
   ]
  },
  {
   "cell_type": "code",
   "execution_count": 69,
   "metadata": {},
   "outputs": [
    {
     "data": {
      "text/plain": [
       "{'bootstrap': True,\n",
       " 'criterion': 'mse',\n",
       " 'max_depth': None,\n",
       " 'max_features': 'auto',\n",
       " 'max_leaf_nodes': None,\n",
       " 'min_impurity_decrease': 0.0,\n",
       " 'min_impurity_split': None,\n",
       " 'min_samples_leaf': 1,\n",
       " 'min_samples_split': 2,\n",
       " 'min_weight_fraction_leaf': 0.0,\n",
       " 'n_estimators': 100,\n",
       " 'n_jobs': None,\n",
       " 'oob_score': False,\n",
       " 'random_state': None,\n",
       " 'verbose': 0,\n",
       " 'warm_start': False}"
      ]
     },
     "execution_count": 69,
     "metadata": {},
     "output_type": "execute_result"
    }
   ],
   "source": [
    "model.get_params()"
   ]
  },
  {
   "cell_type": "code",
   "execution_count": 93,
   "metadata": {},
   "outputs": [],
   "source": [
    "model_parameter = {'max_depth': [20, 40, 60, 80, 100],\n",
    "                   'n_estimators': [20, 40, 60, 80, 100]}"
   ]
  },
  {
   "cell_type": "code",
   "execution_count": 94,
   "metadata": {},
   "outputs": [],
   "source": [
    "model = RandomForestRegressor()"
   ]
  },
  {
   "cell_type": "code",
   "execution_count": 95,
   "metadata": {},
   "outputs": [],
   "source": [
    "from sklearn.model_selection import GridSearchCV"
   ]
  },
  {
   "cell_type": "code",
   "execution_count": 96,
   "metadata": {},
   "outputs": [],
   "source": [
    "best_model = GridSearchCV(estimator = model, param_grid = model_parameter,cv = 5,verbose = 2,refit=True)"
   ]
  },
  {
   "cell_type": "code",
   "execution_count": 97,
   "metadata": {},
   "outputs": [
    {
     "name": "stdout",
     "output_type": "stream",
     "text": [
      "Fitting 5 folds for each of 25 candidates, totalling 125 fits\n",
      "[CV] max_depth=20, n_estimators=20 ...................................\n"
     ]
    },
    {
     "name": "stderr",
     "output_type": "stream",
     "text": [
      "[Parallel(n_jobs=1)]: Using backend SequentialBackend with 1 concurrent workers.\n"
     ]
    },
    {
     "name": "stdout",
     "output_type": "stream",
     "text": [
      "[CV] .................... max_depth=20, n_estimators=20, total=   0.3s\n",
      "[CV] max_depth=20, n_estimators=20 ...................................\n"
     ]
    },
    {
     "name": "stderr",
     "output_type": "stream",
     "text": [
      "[Parallel(n_jobs=1)]: Done   1 out of   1 | elapsed:    0.2s remaining:    0.0s\n"
     ]
    },
    {
     "name": "stdout",
     "output_type": "stream",
     "text": [
      "[CV] .................... max_depth=20, n_estimators=20, total=   0.3s\n",
      "[CV] max_depth=20, n_estimators=20 ...................................\n",
      "[CV] .................... max_depth=20, n_estimators=20, total=   0.3s\n",
      "[CV] max_depth=20, n_estimators=20 ...................................\n",
      "[CV] .................... max_depth=20, n_estimators=20, total=   0.3s\n",
      "[CV] max_depth=20, n_estimators=20 ...................................\n",
      "[CV] .................... max_depth=20, n_estimators=20, total=   0.3s\n",
      "[CV] max_depth=20, n_estimators=40 ...................................\n",
      "[CV] .................... max_depth=20, n_estimators=40, total=   0.5s\n",
      "[CV] max_depth=20, n_estimators=40 ...................................\n",
      "[CV] .................... max_depth=20, n_estimators=40, total=   0.5s\n",
      "[CV] max_depth=20, n_estimators=40 ...................................\n",
      "[CV] .................... max_depth=20, n_estimators=40, total=   0.6s\n",
      "[CV] max_depth=20, n_estimators=40 ...................................\n",
      "[CV] .................... max_depth=20, n_estimators=40, total=   0.7s\n",
      "[CV] max_depth=20, n_estimators=40 ...................................\n",
      "[CV] .................... max_depth=20, n_estimators=40, total=   0.6s\n",
      "[CV] max_depth=20, n_estimators=60 ...................................\n",
      "[CV] .................... max_depth=20, n_estimators=60, total=   0.8s\n",
      "[CV] max_depth=20, n_estimators=60 ...................................\n",
      "[CV] .................... max_depth=20, n_estimators=60, total=   0.9s\n",
      "[CV] max_depth=20, n_estimators=60 ...................................\n",
      "[CV] .................... max_depth=20, n_estimators=60, total=   0.9s\n",
      "[CV] max_depth=20, n_estimators=60 ...................................\n",
      "[CV] .................... max_depth=20, n_estimators=60, total=   1.0s\n",
      "[CV] max_depth=20, n_estimators=60 ...................................\n",
      "[CV] .................... max_depth=20, n_estimators=60, total=   0.8s\n",
      "[CV] max_depth=20, n_estimators=80 ...................................\n",
      "[CV] .................... max_depth=20, n_estimators=80, total=   1.1s\n",
      "[CV] max_depth=20, n_estimators=80 ...................................\n",
      "[CV] .................... max_depth=20, n_estimators=80, total=   1.1s\n",
      "[CV] max_depth=20, n_estimators=80 ...................................\n",
      "[CV] .................... max_depth=20, n_estimators=80, total=   1.1s\n",
      "[CV] max_depth=20, n_estimators=80 ...................................\n",
      "[CV] .................... max_depth=20, n_estimators=80, total=   1.1s\n",
      "[CV] max_depth=20, n_estimators=80 ...................................\n",
      "[CV] .................... max_depth=20, n_estimators=80, total=   1.1s\n",
      "[CV] max_depth=20, n_estimators=100 ..................................\n",
      "[CV] ................... max_depth=20, n_estimators=100, total=   1.4s\n",
      "[CV] max_depth=20, n_estimators=100 ..................................\n",
      "[CV] ................... max_depth=20, n_estimators=100, total=   1.5s\n",
      "[CV] max_depth=20, n_estimators=100 ..................................\n",
      "[CV] ................... max_depth=20, n_estimators=100, total=   1.3s\n",
      "[CV] max_depth=20, n_estimators=100 ..................................\n",
      "[CV] ................... max_depth=20, n_estimators=100, total=   1.3s\n",
      "[CV] max_depth=20, n_estimators=100 ..................................\n",
      "[CV] ................... max_depth=20, n_estimators=100, total=   1.3s\n",
      "[CV] max_depth=40, n_estimators=20 ...................................\n",
      "[CV] .................... max_depth=40, n_estimators=20, total=   0.3s\n",
      "[CV] max_depth=40, n_estimators=20 ...................................\n",
      "[CV] .................... max_depth=40, n_estimators=20, total=   0.3s\n",
      "[CV] max_depth=40, n_estimators=20 ...................................\n",
      "[CV] .................... max_depth=40, n_estimators=20, total=   0.3s\n",
      "[CV] max_depth=40, n_estimators=20 ...................................\n",
      "[CV] .................... max_depth=40, n_estimators=20, total=   0.3s\n",
      "[CV] max_depth=40, n_estimators=20 ...................................\n",
      "[CV] .................... max_depth=40, n_estimators=20, total=   0.3s\n",
      "[CV] max_depth=40, n_estimators=40 ...................................\n",
      "[CV] .................... max_depth=40, n_estimators=40, total=   0.5s\n",
      "[CV] max_depth=40, n_estimators=40 ...................................\n",
      "[CV] .................... max_depth=40, n_estimators=40, total=   0.5s\n",
      "[CV] max_depth=40, n_estimators=40 ...................................\n",
      "[CV] .................... max_depth=40, n_estimators=40, total=   0.6s\n",
      "[CV] max_depth=40, n_estimators=40 ...................................\n",
      "[CV] .................... max_depth=40, n_estimators=40, total=   0.7s\n",
      "[CV] max_depth=40, n_estimators=40 ...................................\n",
      "[CV] .................... max_depth=40, n_estimators=40, total=   0.7s\n",
      "[CV] max_depth=40, n_estimators=60 ...................................\n",
      "[CV] .................... max_depth=40, n_estimators=60, total=   1.6s\n",
      "[CV] max_depth=40, n_estimators=60 ...................................\n",
      "[CV] .................... max_depth=40, n_estimators=60, total=   1.7s\n",
      "[CV] max_depth=40, n_estimators=60 ...................................\n",
      "[CV] .................... max_depth=40, n_estimators=60, total=   1.7s\n",
      "[CV] max_depth=40, n_estimators=60 ...................................\n",
      "[CV] .................... max_depth=40, n_estimators=60, total=   1.5s\n",
      "[CV] max_depth=40, n_estimators=60 ...................................\n",
      "[CV] .................... max_depth=40, n_estimators=60, total=   1.0s\n",
      "[CV] max_depth=40, n_estimators=80 ...................................\n",
      "[CV] .................... max_depth=40, n_estimators=80, total=   1.4s\n",
      "[CV] max_depth=40, n_estimators=80 ...................................\n",
      "[CV] .................... max_depth=40, n_estimators=80, total=   1.2s\n",
      "[CV] max_depth=40, n_estimators=80 ...................................\n",
      "[CV] .................... max_depth=40, n_estimators=80, total=   1.1s\n",
      "[CV] max_depth=40, n_estimators=80 ...................................\n",
      "[CV] .................... max_depth=40, n_estimators=80, total=   1.1s\n",
      "[CV] max_depth=40, n_estimators=80 ...................................\n",
      "[CV] .................... max_depth=40, n_estimators=80, total=   1.1s\n",
      "[CV] max_depth=40, n_estimators=100 ..................................\n",
      "[CV] ................... max_depth=40, n_estimators=100, total=   1.4s\n",
      "[CV] max_depth=40, n_estimators=100 ..................................\n",
      "[CV] ................... max_depth=40, n_estimators=100, total=   1.4s\n",
      "[CV] max_depth=40, n_estimators=100 ..................................\n",
      "[CV] ................... max_depth=40, n_estimators=100, total=   1.4s\n",
      "[CV] max_depth=40, n_estimators=100 ..................................\n",
      "[CV] ................... max_depth=40, n_estimators=100, total=   1.4s\n",
      "[CV] max_depth=40, n_estimators=100 ..................................\n",
      "[CV] ................... max_depth=40, n_estimators=100, total=   1.4s\n",
      "[CV] max_depth=60, n_estimators=20 ...................................\n",
      "[CV] .................... max_depth=60, n_estimators=20, total=   0.3s\n",
      "[CV] max_depth=60, n_estimators=20 ...................................\n",
      "[CV] .................... max_depth=60, n_estimators=20, total=   0.3s\n",
      "[CV] max_depth=60, n_estimators=20 ...................................\n",
      "[CV] .................... max_depth=60, n_estimators=20, total=   0.3s\n",
      "[CV] max_depth=60, n_estimators=20 ...................................\n",
      "[CV] .................... max_depth=60, n_estimators=20, total=   0.3s\n",
      "[CV] max_depth=60, n_estimators=20 ...................................\n",
      "[CV] .................... max_depth=60, n_estimators=20, total=   0.3s\n",
      "[CV] max_depth=60, n_estimators=40 ...................................\n",
      "[CV] .................... max_depth=60, n_estimators=40, total=   0.7s\n",
      "[CV] max_depth=60, n_estimators=40 ...................................\n",
      "[CV] .................... max_depth=60, n_estimators=40, total=   0.6s\n",
      "[CV] max_depth=60, n_estimators=40 ...................................\n",
      "[CV] .................... max_depth=60, n_estimators=40, total=   0.6s\n",
      "[CV] max_depth=60, n_estimators=40 ...................................\n",
      "[CV] .................... max_depth=60, n_estimators=40, total=   0.6s\n",
      "[CV] max_depth=60, n_estimators=40 ...................................\n"
     ]
    },
    {
     "name": "stdout",
     "output_type": "stream",
     "text": [
      "[CV] .................... max_depth=60, n_estimators=40, total=   0.7s\n",
      "[CV] max_depth=60, n_estimators=60 ...................................\n",
      "[CV] .................... max_depth=60, n_estimators=60, total=   0.9s\n",
      "[CV] max_depth=60, n_estimators=60 ...................................\n",
      "[CV] .................... max_depth=60, n_estimators=60, total=   1.2s\n",
      "[CV] max_depth=60, n_estimators=60 ...................................\n",
      "[CV] .................... max_depth=60, n_estimators=60, total=   0.9s\n",
      "[CV] max_depth=60, n_estimators=60 ...................................\n",
      "[CV] .................... max_depth=60, n_estimators=60, total=   1.0s\n",
      "[CV] max_depth=60, n_estimators=60 ...................................\n",
      "[CV] .................... max_depth=60, n_estimators=60, total=   1.2s\n",
      "[CV] max_depth=60, n_estimators=80 ...................................\n",
      "[CV] .................... max_depth=60, n_estimators=80, total=   1.4s\n",
      "[CV] max_depth=60, n_estimators=80 ...................................\n",
      "[CV] .................... max_depth=60, n_estimators=80, total=   1.3s\n",
      "[CV] max_depth=60, n_estimators=80 ...................................\n",
      "[CV] .................... max_depth=60, n_estimators=80, total=   1.2s\n",
      "[CV] max_depth=60, n_estimators=80 ...................................\n",
      "[CV] .................... max_depth=60, n_estimators=80, total=   1.3s\n",
      "[CV] max_depth=60, n_estimators=80 ...................................\n",
      "[CV] .................... max_depth=60, n_estimators=80, total=   1.6s\n",
      "[CV] max_depth=60, n_estimators=100 ..................................\n",
      "[CV] ................... max_depth=60, n_estimators=100, total=   1.7s\n",
      "[CV] max_depth=60, n_estimators=100 ..................................\n",
      "[CV] ................... max_depth=60, n_estimators=100, total=   1.7s\n",
      "[CV] max_depth=60, n_estimators=100 ..................................\n",
      "[CV] ................... max_depth=60, n_estimators=100, total=   1.5s\n",
      "[CV] max_depth=60, n_estimators=100 ..................................\n",
      "[CV] ................... max_depth=60, n_estimators=100, total=   1.6s\n",
      "[CV] max_depth=60, n_estimators=100 ..................................\n",
      "[CV] ................... max_depth=60, n_estimators=100, total=   1.6s\n",
      "[CV] max_depth=80, n_estimators=20 ...................................\n",
      "[CV] .................... max_depth=80, n_estimators=20, total=   0.3s\n",
      "[CV] max_depth=80, n_estimators=20 ...................................\n",
      "[CV] .................... max_depth=80, n_estimators=20, total=   0.5s\n",
      "[CV] max_depth=80, n_estimators=20 ...................................\n",
      "[CV] .................... max_depth=80, n_estimators=20, total=   0.4s\n",
      "[CV] max_depth=80, n_estimators=20 ...................................\n",
      "[CV] .................... max_depth=80, n_estimators=20, total=   0.3s\n",
      "[CV] max_depth=80, n_estimators=20 ...................................\n",
      "[CV] .................... max_depth=80, n_estimators=20, total=   0.4s\n",
      "[CV] max_depth=80, n_estimators=40 ...................................\n",
      "[CV] .................... max_depth=80, n_estimators=40, total=   0.8s\n",
      "[CV] max_depth=80, n_estimators=40 ...................................\n",
      "[CV] .................... max_depth=80, n_estimators=40, total=   0.7s\n",
      "[CV] max_depth=80, n_estimators=40 ...................................\n",
      "[CV] .................... max_depth=80, n_estimators=40, total=   0.6s\n",
      "[CV] max_depth=80, n_estimators=40 ...................................\n",
      "[CV] .................... max_depth=80, n_estimators=40, total=   0.6s\n",
      "[CV] max_depth=80, n_estimators=40 ...................................\n",
      "[CV] .................... max_depth=80, n_estimators=40, total=   0.6s\n",
      "[CV] max_depth=80, n_estimators=60 ...................................\n",
      "[CV] .................... max_depth=80, n_estimators=60, total=   0.8s\n",
      "[CV] max_depth=80, n_estimators=60 ...................................\n",
      "[CV] .................... max_depth=80, n_estimators=60, total=   1.0s\n",
      "[CV] max_depth=80, n_estimators=60 ...................................\n",
      "[CV] .................... max_depth=80, n_estimators=60, total=   0.9s\n",
      "[CV] max_depth=80, n_estimators=60 ...................................\n",
      "[CV] .................... max_depth=80, n_estimators=60, total=   0.9s\n",
      "[CV] max_depth=80, n_estimators=60 ...................................\n",
      "[CV] .................... max_depth=80, n_estimators=60, total=   0.8s\n",
      "[CV] max_depth=80, n_estimators=80 ...................................\n",
      "[CV] .................... max_depth=80, n_estimators=80, total=   1.1s\n",
      "[CV] max_depth=80, n_estimators=80 ...................................\n",
      "[CV] .................... max_depth=80, n_estimators=80, total=   1.2s\n",
      "[CV] max_depth=80, n_estimators=80 ...................................\n",
      "[CV] .................... max_depth=80, n_estimators=80, total=   1.2s\n",
      "[CV] max_depth=80, n_estimators=80 ...................................\n",
      "[CV] .................... max_depth=80, n_estimators=80, total=   1.5s\n",
      "[CV] max_depth=80, n_estimators=80 ...................................\n",
      "[CV] .................... max_depth=80, n_estimators=80, total=   1.2s\n",
      "[CV] max_depth=80, n_estimators=100 ..................................\n",
      "[CV] ................... max_depth=80, n_estimators=100, total=   1.7s\n",
      "[CV] max_depth=80, n_estimators=100 ..................................\n",
      "[CV] ................... max_depth=80, n_estimators=100, total=   1.4s\n",
      "[CV] max_depth=80, n_estimators=100 ..................................\n",
      "[CV] ................... max_depth=80, n_estimators=100, total=   1.6s\n",
      "[CV] max_depth=80, n_estimators=100 ..................................\n",
      "[CV] ................... max_depth=80, n_estimators=100, total=   2.6s\n",
      "[CV] max_depth=80, n_estimators=100 ..................................\n",
      "[CV] ................... max_depth=80, n_estimators=100, total=   2.9s\n",
      "[CV] max_depth=100, n_estimators=20 ..................................\n",
      "[CV] ................... max_depth=100, n_estimators=20, total=   0.6s\n",
      "[CV] max_depth=100, n_estimators=20 ..................................\n",
      "[CV] ................... max_depth=100, n_estimators=20, total=   0.7s\n",
      "[CV] max_depth=100, n_estimators=20 ..................................\n",
      "[CV] ................... max_depth=100, n_estimators=20, total=   0.6s\n",
      "[CV] max_depth=100, n_estimators=20 ..................................\n",
      "[CV] ................... max_depth=100, n_estimators=20, total=   0.6s\n",
      "[CV] max_depth=100, n_estimators=20 ..................................\n",
      "[CV] ................... max_depth=100, n_estimators=20, total=   0.4s\n",
      "[CV] max_depth=100, n_estimators=40 ..................................\n",
      "[CV] ................... max_depth=100, n_estimators=40, total=   0.7s\n",
      "[CV] max_depth=100, n_estimators=40 ..................................\n",
      "[CV] ................... max_depth=100, n_estimators=40, total=   0.6s\n",
      "[CV] max_depth=100, n_estimators=40 ..................................\n",
      "[CV] ................... max_depth=100, n_estimators=40, total=   0.8s\n",
      "[CV] max_depth=100, n_estimators=40 ..................................\n",
      "[CV] ................... max_depth=100, n_estimators=40, total=   0.6s\n",
      "[CV] max_depth=100, n_estimators=40 ..................................\n",
      "[CV] ................... max_depth=100, n_estimators=40, total=   0.6s\n",
      "[CV] max_depth=100, n_estimators=60 ..................................\n",
      "[CV] ................... max_depth=100, n_estimators=60, total=   0.9s\n",
      "[CV] max_depth=100, n_estimators=60 ..................................\n",
      "[CV] ................... max_depth=100, n_estimators=60, total=   0.9s\n",
      "[CV] max_depth=100, n_estimators=60 ..................................\n",
      "[CV] ................... max_depth=100, n_estimators=60, total=   0.9s\n",
      "[CV] max_depth=100, n_estimators=60 ..................................\n",
      "[CV] ................... max_depth=100, n_estimators=60, total=   0.9s\n",
      "[CV] max_depth=100, n_estimators=60 ..................................\n",
      "[CV] ................... max_depth=100, n_estimators=60, total=   0.8s\n",
      "[CV] max_depth=100, n_estimators=80 ..................................\n",
      "[CV] ................... max_depth=100, n_estimators=80, total=   1.1s\n",
      "[CV] max_depth=100, n_estimators=80 ..................................\n",
      "[CV] ................... max_depth=100, n_estimators=80, total=   1.3s\n",
      "[CV] max_depth=100, n_estimators=80 ..................................\n"
     ]
    },
    {
     "name": "stdout",
     "output_type": "stream",
     "text": [
      "[CV] ................... max_depth=100, n_estimators=80, total=   1.3s\n",
      "[CV] max_depth=100, n_estimators=80 ..................................\n",
      "[CV] ................... max_depth=100, n_estimators=80, total=   1.2s\n",
      "[CV] max_depth=100, n_estimators=80 ..................................\n",
      "[CV] ................... max_depth=100, n_estimators=80, total=   1.2s\n",
      "[CV] max_depth=100, n_estimators=100 .................................\n",
      "[CV] .................. max_depth=100, n_estimators=100, total=   1.5s\n",
      "[CV] max_depth=100, n_estimators=100 .................................\n",
      "[CV] .................. max_depth=100, n_estimators=100, total=   1.6s\n",
      "[CV] max_depth=100, n_estimators=100 .................................\n",
      "[CV] .................. max_depth=100, n_estimators=100, total=   1.5s\n",
      "[CV] max_depth=100, n_estimators=100 .................................\n",
      "[CV] .................. max_depth=100, n_estimators=100, total=   1.5s\n",
      "[CV] max_depth=100, n_estimators=100 .................................\n",
      "[CV] .................. max_depth=100, n_estimators=100, total=   1.6s\n"
     ]
    },
    {
     "name": "stderr",
     "output_type": "stream",
     "text": [
      "[Parallel(n_jobs=1)]: Done 125 out of 125 | elapsed:  2.0min finished\n"
     ]
    },
    {
     "data": {
      "text/plain": [
       "GridSearchCV(cv=5, error_score='raise-deprecating',\n",
       "             estimator=RandomForestRegressor(bootstrap=True, criterion='mse',\n",
       "                                             max_depth=None,\n",
       "                                             max_features='auto',\n",
       "                                             max_leaf_nodes=None,\n",
       "                                             min_impurity_decrease=0.0,\n",
       "                                             min_impurity_split=None,\n",
       "                                             min_samples_leaf=1,\n",
       "                                             min_samples_split=2,\n",
       "                                             min_weight_fraction_leaf=0.0,\n",
       "                                             n_estimators='warn', n_jobs=None,\n",
       "                                             oob_score=False, random_state=None,\n",
       "                                             verbose=0, warm_start=False),\n",
       "             iid='warn', n_jobs=None,\n",
       "             param_grid={'max_depth': [20, 40, 60, 80, 100],\n",
       "                         'n_estimators': [20, 40, 60, 80, 100]},\n",
       "             pre_dispatch='2*n_jobs', refit=True, return_train_score=False,\n",
       "             scoring=None, verbose=2)"
      ]
     },
     "execution_count": 97,
     "metadata": {},
     "output_type": "execute_result"
    }
   ],
   "source": [
    "best_model.fit(x_train,y_train)"
   ]
  },
  {
   "cell_type": "code",
   "execution_count": 98,
   "metadata": {},
   "outputs": [
    {
     "data": {
      "text/plain": [
       "{'max_depth': 20, 'n_estimators': 100}"
      ]
     },
     "execution_count": 98,
     "metadata": {},
     "output_type": "execute_result"
    }
   ],
   "source": [
    "best_model.best_params_"
   ]
  },
  {
   "cell_type": "markdown",
   "metadata": {},
   "source": [
    "# Visualize Prediction"
   ]
  },
  {
   "cell_type": "code",
   "execution_count": 99,
   "metadata": {},
   "outputs": [],
   "source": [
    "prediction = best_model.predict(x_test)"
   ]
  },
  {
   "cell_type": "code",
   "execution_count": 100,
   "metadata": {},
   "outputs": [
    {
     "data": {
      "text/plain": [
       "139.44328204784028"
      ]
     },
     "execution_count": 100,
     "metadata": {},
     "output_type": "execute_result"
    }
   ],
   "source": [
    "mean_absolute_error(y_test,prediction)"
   ]
  },
  {
   "cell_type": "code",
   "execution_count": 101,
   "metadata": {},
   "outputs": [
    {
     "data": {
      "image/png": "[encoded data removed]",
      "text/plain": [
       "<Figure size 1440x360 with 1 Axes>"
      ]
     },
     "metadata": {
      "needs_background": "light"
     },
     "output_type": "display_data"
    }
   ],
   "source": [
    "visualize(y_test,prediction,'Prediction vs Real Data')"
   ]
  },
  {
   "cell_type": "markdown",
   "metadata": {},
   "source": [
    "# Comparsion"
   ]
  },
  {
   "cell_type": "code",
   "execution_count": 39,
   "metadata": {},
   "outputs": [],
   "source": [
    "comparsion_dataframe = x_test.copy()"
   ]
  },
  {
   "cell_type": "code",
   "execution_count": 40,
   "metadata": {},
   "outputs": [],
   "source": [
    "comparsion_dataframe = comparsion_dataframe.join(y_test)\n",
    "comparsion_dataframe['Prediction'] = prediction\n",
    "comparsion_dataframe['Difference'] = abs(y_test - prediction)"
   ]
  },
  {
   "cell_type": "code",
   "execution_count": 41,
   "metadata": {},
   "outputs": [
    {
     "data": {
      "text/html": [
       "<div>\n",
       "<style scoped>\n",
       "    .dataframe tbody tr th:only-of-type {\n",
       "        vertical-align: middle;\n",
       "    }\n",
       "\n",
       "    .dataframe tbody tr th {\n",
       "        vertical-align: top;\n",
       "    }\n",
       "\n",
       "    .dataframe thead th {\n",
       "        text-align: right;\n",
       "    }\n",
       "</style>\n",
       "<table border=\"1\" class=\"dataframe\">\n",
       "  <thead>\n",
       "    <tr style=\"text-align: right;\">\n",
       "      <th></th>\n",
       "      <th>Qualification</th>\n",
       "      <th>Experience</th>\n",
       "      <th>Rating</th>\n",
       "      <th>Place</th>\n",
       "      <th>Profile</th>\n",
       "      <th>Fees</th>\n",
       "      <th>Prediction</th>\n",
       "      <th>Difference</th>\n",
       "    </tr>\n",
       "  </thead>\n",
       "  <tbody>\n",
       "    <tr>\n",
       "      <th>4552</th>\n",
       "      <td>1377</td>\n",
       "      <td>8</td>\n",
       "      <td>94.643475</td>\n",
       "      <td>783</td>\n",
       "      <td>3</td>\n",
       "      <td>600</td>\n",
       "      <td>385.804126</td>\n",
       "      <td>214.195874</td>\n",
       "    </tr>\n",
       "    <tr>\n",
       "      <th>4163</th>\n",
       "      <td>874</td>\n",
       "      <td>9</td>\n",
       "      <td>94.643475</td>\n",
       "      <td>591</td>\n",
       "      <td>2</td>\n",
       "      <td>200</td>\n",
       "      <td>436.299713</td>\n",
       "      <td>236.299713</td>\n",
       "    </tr>\n",
       "    <tr>\n",
       "      <th>4384</th>\n",
       "      <td>1060</td>\n",
       "      <td>19</td>\n",
       "      <td>88.000000</td>\n",
       "      <td>866</td>\n",
       "      <td>3</td>\n",
       "      <td>600</td>\n",
       "      <td>374.143188</td>\n",
       "      <td>225.856812</td>\n",
       "    </tr>\n",
       "    <tr>\n",
       "      <th>1570</th>\n",
       "      <td>354</td>\n",
       "      <td>10</td>\n",
       "      <td>94.643475</td>\n",
       "      <td>102</td>\n",
       "      <td>5</td>\n",
       "      <td>200</td>\n",
       "      <td>286.649176</td>\n",
       "      <td>86.649176</td>\n",
       "    </tr>\n",
       "    <tr>\n",
       "      <th>909</th>\n",
       "      <td>10</td>\n",
       "      <td>14</td>\n",
       "      <td>94.643475</td>\n",
       "      <td>317</td>\n",
       "      <td>0</td>\n",
       "      <td>400</td>\n",
       "      <td>187.416860</td>\n",
       "      <td>212.583140</td>\n",
       "    </tr>\n",
       "    <tr>\n",
       "      <th>...</th>\n",
       "      <td>...</td>\n",
       "      <td>...</td>\n",
       "      <td>...</td>\n",
       "      <td>...</td>\n",
       "      <td>...</td>\n",
       "      <td>...</td>\n",
       "      <td>...</td>\n",
       "      <td>...</td>\n",
       "    </tr>\n",
       "    <tr>\n",
       "      <th>4283</th>\n",
       "      <td>351</td>\n",
       "      <td>20</td>\n",
       "      <td>94.643475</td>\n",
       "      <td>451</td>\n",
       "      <td>5</td>\n",
       "      <td>250</td>\n",
       "      <td>284.604813</td>\n",
       "      <td>34.604813</td>\n",
       "    </tr>\n",
       "    <tr>\n",
       "      <th>3606</th>\n",
       "      <td>351</td>\n",
       "      <td>4</td>\n",
       "      <td>94.643475</td>\n",
       "      <td>391</td>\n",
       "      <td>5</td>\n",
       "      <td>200</td>\n",
       "      <td>286.732219</td>\n",
       "      <td>86.732219</td>\n",
       "    </tr>\n",
       "    <tr>\n",
       "      <th>4607</th>\n",
       "      <td>219</td>\n",
       "      <td>14</td>\n",
       "      <td>94.643475</td>\n",
       "      <td>739</td>\n",
       "      <td>1</td>\n",
       "      <td>100</td>\n",
       "      <td>254.039507</td>\n",
       "      <td>154.039507</td>\n",
       "    </tr>\n",
       "    <tr>\n",
       "      <th>2983</th>\n",
       "      <td>134</td>\n",
       "      <td>12</td>\n",
       "      <td>94.643475</td>\n",
       "      <td>249</td>\n",
       "      <td>1</td>\n",
       "      <td>250</td>\n",
       "      <td>196.136869</td>\n",
       "      <td>53.863131</td>\n",
       "    </tr>\n",
       "    <tr>\n",
       "      <th>1784</th>\n",
       "      <td>606</td>\n",
       "      <td>18</td>\n",
       "      <td>94.643475</td>\n",
       "      <td>668</td>\n",
       "      <td>2</td>\n",
       "      <td>300</td>\n",
       "      <td>336.501915</td>\n",
       "      <td>36.501915</td>\n",
       "    </tr>\n",
       "  </tbody>\n",
       "</table>\n",
       "<p>1188 rows × 8 columns</p>\n",
       "</div>"
      ],
      "text/plain": [
       "      Qualification  Experience     Rating  Place  Profile  Fees  Prediction  \\\n",
       "4552           1377           8  94.643475    783        3   600  385.804126   \n",
       "4163            874           9  94.643475    591        2   200  436.299713   \n",
       "4384           1060          19  88.000000    866        3   600  374.143188   \n",
       "1570            354          10  94.643475    102        5   200  286.649176   \n",
       "909              10          14  94.643475    317        0   400  187.416860   \n",
       "...             ...         ...        ...    ...      ...   ...         ...   \n",
       "4283            351          20  94.643475    451        5   250  284.604813   \n",
       "3606            351           4  94.643475    391        5   200  286.732219   \n",
       "4607            219          14  94.643475    739        1   100  254.039507   \n",
       "2983            134          12  94.643475    249        1   250  196.136869   \n",
       "1784            606          18  94.643475    668        2   300  336.501915   \n",
       "\n",
       "      Difference  \n",
       "4552  214.195874  \n",
       "4163  236.299713  \n",
       "4384  225.856812  \n",
       "1570   86.649176  \n",
       "909   212.583140  \n",
       "...          ...  \n",
       "4283   34.604813  \n",
       "3606   86.732219  \n",
       "4607  154.039507  \n",
       "2983   53.863131  \n",
       "1784   36.501915  \n",
       "\n",
       "[1188 rows x 8 columns]"
      ]
     },
     "execution_count": 41,
     "metadata": {},
     "output_type": "execute_result"
    }
   ],
   "source": [
    "comparsion_dataframe"
   ]
  },
  {
   "cell_type": "code",
   "execution_count": 42,
   "metadata": {},
   "outputs": [],
   "source": [
    "best_prediction = comparsion_dataframe[comparsion_dataframe['Difference'] < 50]\n",
    "worst_prediction = comparsion_dataframe[comparsion_dataframe['Difference'] > 200]"
   ]
  },
  {
   "cell_type": "code",
   "execution_count": 43,
   "metadata": {},
   "outputs": [
    {
     "data": {
      "text/plain": [
       "(284, 269)"
      ]
     },
     "execution_count": 43,
     "metadata": {},
     "output_type": "execute_result"
    }
   ],
   "source": [
    "len(best_prediction),len(worst_prediction)"
   ]
  },
  {
   "cell_type": "markdown",
   "metadata": {},
   "source": [
    "# Simpan Model"
   ]
  },
  {
   "cell_type": "code",
   "execution_count": null,
   "metadata": {},
   "outputs": [],
   "source": [
    "import pickle"
   ]
  },
  {
   "cell_type": "code",
   "execution_count": 44,
   "metadata": {},
   "outputs": [],
   "source": [
    "with open('doctor-fee-regression.pkl','wb') as file:\n",
    "    pickle.dump(model,file)"
   ]
  },
  {
   "cell_type": "code",
   "execution_count": null,
   "metadata": {},
   "outputs": [],
   "source": []
  }
 ],
 "metadata": {
  "kernelspec": {
   "display_name": "Python 3",
   "language": "python",
   "name": "python3"
  },
  "language_info": {
   "codemirror_mode": {
    "name": "ipython",
    "version": 3
   },
   "file_extension": ".py",
   "mimetype": "text/x-python",
   "name": "python",
   "nbconvert_exporter": "python",
   "pygments_lexer": "ipython3",
   "version": "3.7.7"
  }
 },
 "nbformat": 4,
 "nbformat_minor": 4
}
